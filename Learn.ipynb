{
 "cells": [
  {
   "cell_type": "markdown",
   "id": "7541f927",
   "metadata": {},
   "source": [
    "# Palindrome"
   ]
  },
  {
   "cell_type": "code",
   "execution_count": 12,
   "id": "3e0c0af8",
   "metadata": {},
   "outputs": [
    {
     "name": "stdout",
     "output_type": "stream",
     "text": [
      "enter string: malayalam\n",
      "141\n",
      "malayalam is Palindrome\n",
      "malayalam is Palindrome\n",
      "141 is Palindrome\n"
     ]
    }
   ],
   "source": [
    "str = input(\"enter string: \")\n",
    "n = int(input())\n",
    "def Ispalindrome(str):\n",
    "    if str == str[::-1]:\n",
    "        print(str,\"is Palindrome\")\n",
    "    else:\n",
    "        print(Str, \"is not a Palindrome\")\n",
    "def Ispalindrome1(str):\n",
    "    rev_str = \"\"\n",
    "    for char in str:\n",
    "        rev_str = char+rev_str\n",
    "    if str == rev_str:\n",
    "        print(str,\"is Palindrome\")\n",
    "    else:\n",
    "        print(str, \"is not a Palindrome\")\n",
    "def Ispalindrome2(num):\n",
    "    rev_num = 0\n",
    "    temp = num\n",
    "    while(num>0):\n",
    "        dig = num%10\n",
    "        rev_num = rev_num *10 + dig\n",
    "        num = num//10\n",
    "    if temp == rev_num:\n",
    "        print(rev_num,\"is Palindrome\")\n",
    "    else:\n",
    "        print(rev_num, \"is not a Palindrome\")\n",
    "d = Ispalindrome(str)\n",
    "d1 = Ispalindrome1(str)\n",
    "d2 = Ispalindrome2(n)"
   ]
  },
  {
   "cell_type": "markdown",
   "id": "9add0dc2",
   "metadata": {},
   "source": [
    "# Fibonacci Series"
   ]
  },
  {
   "cell_type": "code",
   "execution_count": 8,
   "id": "de941b67",
   "metadata": {},
   "outputs": [
    {
     "name": "stdout",
     "output_type": "stream",
     "text": [
      "10\n"
     ]
    },
    {
     "data": {
      "text/plain": [
       "55"
      ]
     },
     "execution_count": 8,
     "metadata": {},
     "output_type": "execute_result"
    }
   ],
   "source": [
    "#Using for loop\n",
    "def fib(n):\n",
    "    a = 0\n",
    "    b = 1\n",
    "    for i in range(2,n+1):\n",
    "        c = a + b\n",
    "        a = b\n",
    "        b = c\n",
    "    return c\n",
    "def fib1\n",
    "n = int(input())\n",
    "fib(n)"
   ]
  },
  {
   "cell_type": "markdown",
   "id": "28502ac5",
   "metadata": {},
   "source": [
    "# FizzBuzz"
   ]
  },
  {
   "cell_type": "code",
   "execution_count": 1,
   "id": "388b41a8",
   "metadata": {},
   "outputs": [
    {
     "name": "stdout",
     "output_type": "stream",
     "text": [
      "Enter a number: 4\n",
      "1\n",
      "2\n",
      "Fizz\n",
      "4\n"
     ]
    }
   ],
   "source": [
    "def FizzBuzz(n):\n",
    "    for i in range(1,n+1):\n",
    "        if i%3 == 0 and i%5 == 0:\n",
    "            print(\"FizzBuzz\")\n",
    "        elif i%5 == 0:\n",
    "            print(\"Buzz\")\n",
    "        elif i%3 == 0:\n",
    "            print(\"Fizz\")\n",
    "        else:\n",
    "            print(i)\n",
    "n = int(input(\"Enter a number: \"))\n",
    "d = FizzBuzz(n)"
   ]
  },
  {
   "cell_type": "markdown",
   "id": "1eb25238",
   "metadata": {},
   "source": [
    "# Prime Number"
   ]
  },
  {
   "cell_type": "code",
   "execution_count": 3,
   "id": "b2cffe1a",
   "metadata": {},
   "outputs": [
    {
     "name": "stdout",
     "output_type": "stream",
     "text": [
      "Enter a number: 15\n",
      "Not Prime\n"
     ]
    }
   ],
   "source": [
    "def Isprime(N):\n",
    "    count = 0\n",
    "    for i in range(1,N+1):\n",
    "        if N%i == 0:\n",
    "            count += 1\n",
    "    if count == 2:\n",
    "        print(\"Prime\")\n",
    "    else:\n",
    "        print(\"Not Prime\")\n",
    "N = int(input(\"Enter a number: \"))\n",
    "Isprime(N)"
   ]
  },
  {
   "cell_type": "code",
   "execution_count": null,
   "id": "6ba7469d",
   "metadata": {},
   "outputs": [],
   "source": [
    "def nprimes(N):\n",
    "    "
   ]
  },
  {
   "cell_type": "code",
   "execution_count": 3,
   "id": "2270586e",
   "metadata": {},
   "outputs": [
    {
     "name": "stdout",
     "output_type": "stream",
     "text": [
      "[['a' 'b' 'c']\n",
      " ['d' 'e' 'f']\n",
      " ['g' 'h' 'i']]\n"
     ]
    }
   ],
   "source": [
    "import numpy as np\n",
    "A = np.array([\n",
    "    ['a', 'b', 'c'],\n",
    "    ['d', 'e', 'f'],\n",
    "    ['g', 'h', 'i']\n",
    "])\n",
    "\n",
    "print(A[:,:3])"
   ]
  },
  {
   "cell_type": "code",
   "execution_count": 6,
   "id": "c3c62d1c",
   "metadata": {},
   "outputs": [],
   "source": [
    "a = np.arange(5)"
   ]
  },
  {
   "cell_type": "code",
   "execution_count": 7,
   "id": "347070c3",
   "metadata": {},
   "outputs": [
    {
     "data": {
      "text/plain": [
       "array([20, 21, 22, 23, 24])"
      ]
     },
     "execution_count": 7,
     "metadata": {},
     "output_type": "execute_result"
    }
   ],
   "source": [
    "a + 20"
   ]
  }
 ],
 "metadata": {
  "kernelspec": {
   "display_name": "Python 3 (ipykernel)",
   "language": "python",
   "name": "python3"
  },
  "language_info": {
   "codemirror_mode": {
    "name": "ipython",
    "version": 3
   },
   "file_extension": ".py",
   "mimetype": "text/x-python",
   "name": "python",
   "nbconvert_exporter": "python",
   "pygments_lexer": "ipython3",
   "version": "3.11.5"
  }
 },
 "nbformat": 4,
 "nbformat_minor": 5
}
