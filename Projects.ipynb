{
 "cells": [
  {
   "cell_type": "code",
   "execution_count": 11,
   "id": "6a50c7e4",
   "metadata": {},
   "outputs": [
    {
     "name": "stdout",
     "output_type": "stream",
     "text": [
      "enter number: 5\n",
      "enter another number: 3\n",
      "file opened\n",
      "1.6666666666666667\n",
      "p\n",
      "Invalid input invalid literal for int() with base 10: 'p'\n",
      "file closed\n",
      "All fine\n"
     ]
    }
   ],
   "source": [
    "###### Error exception handing\n",
    "a = int(input(\"enter number: \"))\n",
    "b = int(input(\"enter another number: \"))\n",
    "try:\n",
    "    print(\"file opened\")\n",
    "    print(a/b)\n",
    "    k = int(input())\n",
    "    print(k)\n",
    "except ZeroDivisionError as e:\n",
    "    print(\"The literals entered as a zero which is an error occurring situation\",e)\n",
    "except ValueError as e:\n",
    "    print(\"Invalid input\",e)\n",
    "except Exception as e:\n",
    "    print(\"An error has occurred...\")\n",
    "finally:\n",
    "    print(\"file closed\")\n",
    "    print(\"All fine\")"
   ]
  },
  {
   "cell_type": "code",
   "execution_count": 2,
   "id": "70c760c3",
   "metadata": {},
   "outputs": [
    {
     "name": "stdout",
     "output_type": "stream",
     "text": [
      "3 5 2\n",
      "11\n"
     ]
    }
   ],
   "source": [
    "a,b,x=list(map(int,input().split()))\n",
    "y = a*x+b\n",
    "print(y)"
   ]
  },
  {
   "cell_type": "code",
   "execution_count": 3,
   "id": "3165d146",
   "metadata": {},
   "outputs": [
    {
     "name": "stdout",
     "output_type": "stream",
     "text": [
      "3 5 2\n",
      "11\n"
     ]
    }
   ],
   "source": [
    "a,b,x=list(map(int,input().split()))\n",
    "y = a*x+b\n",
    "print(y)"
   ]
  },
  {
   "cell_type": "code",
   "execution_count": 1,
   "id": "b5a7baf7",
   "metadata": {},
   "outputs": [
    {
     "name": "stdout",
     "output_type": "stream",
     "text": [
      "Hello world\n"
     ]
    }
   ],
   "source": [
    "# making changes for git check\n",
    "print(\"Hello world\")"
   ]
  },
  {
   "cell_type": "code",
   "execution_count": 8,
   "id": "1a0fc12b",
   "metadata": {},
   "outputs": [
    {
     "name": "stdout",
     "output_type": "stream",
     "text": [
      "0 1 \n",
      "List must contain nine numbers\n"
     ]
    }
   ],
   "source": [
    "import numpy as np\n",
    "def calculate(n,matrix,mat):\n",
    "    l1 = [list(matrix.mean(axis = 0)),list(matrix.mean(axis=1)),mat.mean()]\n",
    "    l2 = [list(matrix.var(axis = 0)),list(matrix.var(axis=1)),mat.var()]\n",
    "    l3 = [list(matrix.std(axis = 0)),list(matrix.std(axis=1)),mat.std()]\n",
    "    l4 = [list(matrix.max(axis = 0)),list(matrix.max(axis=1)),mat.max()]\n",
    "    l5 = [list(matrix.min(axis = 0)),list(matrix.min(axis=1)),mat.min()]\n",
    "    l6 = [list(matrix.sum(axis = 0)),list(matrix.sum(axis=1)),mat.sum()]\n",
    "    result = {\n",
    "  'mean': l1,\n",
    "  'variance': l2,\n",
    "  'standard deviation': l3,\n",
    "  'max': l4,\n",
    "  'min': l5,\n",
    "  'sum': l6\n",
    "}\n",
    "    return result\n",
    "n = list(map(int,input().split()))\n",
    "try:\n",
    "    mat = np.array(n)\n",
    "    matrix = np.array(n).reshape(3,3)\n",
    "    print(calculate(n,matrix,mat))\n",
    "except ValueError as e:\n",
    "    print(\"List must contain nine numbers\")"
   ]
  },
  {
   "cell_type": "code",
   "execution_count": null,
   "id": "1568236c",
   "metadata": {},
   "outputs": [],
   "source": [
    "import pandas as pd\n",
    "\n",
    "def calculate_demographic_data(print_data=True):\n",
    "    # Read data from file\n",
    "    df = pd.read_csv(\"adult.data.csv\")\n",
    "\n",
    "    # Number of each race\n",
    "    race_count = df[\"race\"].value_counts()\n",
    "\n",
    "    # Average age of men\n",
    "    average_age_men = df[df['sex'] == 'Male']['age'].mean()\n",
    "\n",
    "    # Percentage with Bachelors degrees\n",
    "    percentage_bachelors = (df['education'] == 'Bachelors').mean() * 100\n",
    "\n",
    "    # Percentage with higher education that earn >50K\n",
    "    higher_education_rich = ((df['education-num'] >= 13) & (df['salary'] == '>50K')).mean() * 100\n",
    "\n",
    "    # Percentage without higher education that earn >50K\n",
    "    lower_education_rich = ((df['education-num'] < 13) & (df['salary'] == '<=50K')).mean() * 100\n",
    "\n",
    "    # Min work time\n",
    "    min_work_hours = df['hours-per-week'].min()\n",
    "\n",
    "    # Percentage of the people who work the minimum number of hours per week and have a salary of >50K\n",
    "    rich_percentage = ((df['hours-per-week'] == min_work_hours) & (df['salary'] == '>50K')).mean() * 100\n",
    "\n",
    "    # Country with highest percentage of people that earn >50K\n",
    "    highest_earning_country = df[df['salary'] == '>50K']['native-country'].value_counts().idxmax()\n",
    "    highest_earning_country_percentage = (df[(df['salary'] == '>50K') & (df['native-country'] == highest_earning_country)].shape[0] / df[df['native-country'] == highest_earning_country].shape[0]) * 100\n",
    "\n",
    "    # Identify the most popular occupation for those who earn >50K in India\n",
    "    top_IN_occupation = df[(df['native-country'] == 'India') & (df['salary'] == '>50K')]['occupation'].value_counts().idxmax()\n",
    "\n",
    "    # Print the results if print_data is True\n",
    "    if print_data:\n",
    "        print(\"Number of each race:\\n\", race_count) \n",
    "        print(\"Average age of men:\", average_age_men)\n",
    "        print(f\"Percentage with Bachelors degrees: {percentage_bachelors}%\")\n",
    "        print(f\"Percentage with higher education that earn >50K: {higher_education_rich}%\")\n",
    "        print(f\"Percentage without higher education that earn >50K: {lower_education_rich}%\")\n",
    "        print(f\"Min work time: {min_work_hours} hours/week\")\n",
    "        print(f\"Percentage of rich among those who work fewest hours: {rich_percentage}%\")\n",
    "        print(\"Country with highest percentage of rich:\", highest_earning_country)\n",
    "        print(f\"Highest percentage of rich people in country: {highest_earning_country_percentage}%\")\n",
    "        print(\"Top occupations in India:\", top_IN_occupation)\n",
    "\n",
    "    return {\n",
    "        'race_count': race_count,\n",
    "        'average_age_men': average_age_men,\n",
    "        'percentage_bachelors': percentage_bachelors,\n",
    "        'higher_education_rich': higher_education_rich,\n",
    "        'lower_education_rich': lower_education_rich,\n",
    "        'min_work_hours': min_work_hours,\n",
    "        'rich_percentage': rich_percentage,\n",
    "        'highest_earning_country': highest_earning_country,\n",
    "        'highest_earning_country_percentage': highest_earning_country_percentage,\n",
    "        'top_IN_occupation': top_IN_occupation\n",
    "    }\n"
   ]
  }
 ],
 "metadata": {
  "kernelspec": {
   "display_name": "Python 3 (ipykernel)",
   "language": "python",
   "name": "python3"
  },
  "language_info": {
   "codemirror_mode": {
    "name": "ipython",
    "version": 3
   },
   "file_extension": ".py",
   "mimetype": "text/x-python",
   "name": "python",
   "nbconvert_exporter": "python",
   "pygments_lexer": "ipython3",
   "version": "3.11.5"
  }
 },
 "nbformat": 4,
 "nbformat_minor": 5
}
