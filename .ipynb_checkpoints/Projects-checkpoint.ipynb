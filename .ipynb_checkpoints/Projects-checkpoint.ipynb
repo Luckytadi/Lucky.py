{
 "cells": [
  {
   "cell_type": "code",
   "execution_count": 11,
   "id": "6a50c7e4",
   "metadata": {},
   "outputs": [
    {
     "name": "stdout",
     "output_type": "stream",
     "text": [
      "enter number: 5\n",
      "enter another number: 3\n",
      "file opened\n",
      "1.6666666666666667\n",
      "p\n",
      "Invalid input invalid literal for int() with base 10: 'p'\n",
      "file closed\n",
      "All fine\n"
     ]
    }
   ],
   "source": [
    "###### Error exception handing\n",
    "a = int(input(\"enter number: \"))\n",
    "b = int(input(\"enter another number: \"))\n",
    "try:\n",
    "    print(\"file opened\")\n",
    "    print(a/b)\n",
    "    k = int(input())\n",
    "    print(k)\n",
    "except ZeroDivisionError as e:\n",
    "    print(\"The literals entered as a zero which is an error occurring situation\",e)\n",
    "except ValueError as e:\n",
    "    print(\"Invalid input\",e)\n",
    "except Exception as e:\n",
    "    print(\"An error has occurred...\")\n",
    "finally:\n",
    "    print(\"file closed\")\n",
    "    print(\"All fine\")"
   ]
  },
  {
   "cell_type": "code",
   "execution_count": 2,
   "id": "70c760c3",
   "metadata": {},
   "outputs": [
    {
     "name": "stdout",
     "output_type": "stream",
     "text": [
      "3 5 2\n",
      "11\n"
     ]
    }
   ],
   "source": [
    "a,b,x=list(map(int,input().split()))\n",
    "y = a*x+b\n",
    "print(y)"
   ]
  },
  {
   "cell_type": "code",
   "execution_count": 3,
   "id": "3165d146",
   "metadata": {},
   "outputs": [
    {
     "name": "stdout",
     "output_type": "stream",
     "text": [
      "3 5 2\n",
      "11\n"
     ]
    }
   ],
   "source": [
    "a,b,x=list(map(int,input().split()))\n",
    "y = a*x+b\n",
    "print(y)"
   ]
  },
  {
   "cell_type": "code",
   "execution_count": 1,
   "id": "b5a7baf7",
   "metadata": {},
   "outputs": [
    {
     "name": "stdout",
     "output_type": "stream",
     "text": [
      "Hello world\n"
     ]
    }
   ],
   "source": [
    "# making changes for git check\n",
    "print(\"Hello world\")"
   ]
  },
  {
   "cell_type": "code",
   "execution_count": 8,
   "id": "1a0fc12b",
   "metadata": {},
   "outputs": [
    {
     "name": "stdout",
     "output_type": "stream",
     "text": [
      "0 1 \n",
      "List must contain nine numbers\n"
     ]
    }
   ],
   "source": [
    "import numpy as np\n",
    "def calculate(n,matrix,mat):\n",
    "    l1 = [list(matrix.mean(axis = 0)),list(matrix.mean(axis=1)),mat.mean()]\n",
    "    l2 = [list(matrix.var(axis = 0)),list(matrix.var(axis=1)),mat.var()]\n",
    "    l3 = [list(matrix.std(axis = 0)),list(matrix.std(axis=1)),mat.std()]\n",
    "    l4 = [list(matrix.max(axis = 0)),list(matrix.max(axis=1)),mat.max()]\n",
    "    l5 = [list(matrix.min(axis = 0)),list(matrix.min(axis=1)),mat.min()]\n",
    "    l6 = [list(matrix.sum(axis = 0)),list(matrix.sum(axis=1)),mat.sum()]\n",
    "    result = {\n",
    "  'mean': l1,\n",
    "  'variance': l2,\n",
    "  'standard deviation': l3,\n",
    "  'max': l4,\n",
    "  'min': l5,\n",
    "  'sum': l6\n",
    "}\n",
    "    return result\n",
    "n = list(map(int,input().split()))\n",
    "try:\n",
    "    mat = np.array(n)\n",
    "    matrix = np.array(n).reshape(3,3)\n",
    "    print(calculate(n,matrix,mat))\n",
    "except ValueError as e:\n",
    "    print(\"List must contain nine numbers\")"
   ]
  }
 ],
 "metadata": {
  "kernelspec": {
   "display_name": "Python 3 (ipykernel)",
   "language": "python",
   "name": "python3"
  },
  "language_info": {
   "codemirror_mode": {
    "name": "ipython",
    "version": 3
   },
   "file_extension": ".py",
   "mimetype": "text/x-python",
   "name": "python",
   "nbconvert_exporter": "python",
   "pygments_lexer": "ipython3",
   "version": "3.11.5"
  }
 },
 "nbformat": 4,
 "nbformat_minor": 5
}
