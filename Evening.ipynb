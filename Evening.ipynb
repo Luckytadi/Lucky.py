{
 "cells": [
  {
   "cell_type": "code",
   "execution_count": null,
   "id": "a8892446",
   "metadata": {
    "scrolled": true
   },
   "outputs": [],
   "source": [
    "n = int(input())\n",
    "for i in range(1,n+1):\n",
    "    for j in range(1,i+1):\n",
    "        print(j,end=' ')\n",
    "    print()"
   ]
  },
  {
   "cell_type": "markdown",
   "id": "389b7c07",
   "metadata": {},
   "source": []
  },
  {
   "cell_type": "code",
   "execution_count": null,
   "id": "62309b99",
   "metadata": {},
   "outputs": [],
   "source": [
    "n = int(input())\n",
    "s = 0\n",
    "r = n%10\n",
    "s = s+r*r\n",
    "n = n//10\n",
    "print(r)\n",
    "print(s)\n",
    "print(n)"
   ]
  },
  {
   "cell_type": "code",
   "execution_count": null,
   "id": "e04583ea",
   "metadata": {},
   "outputs": [],
   "source": [
    "class Solution:\n",
    "    def isHappy (self, N):\n",
    "        def is_one(N):\n",
    "            n = N\n",
    "            s = 0\n",
    "            while n>0:\n",
    "                r = n%10\n",
    "                s = s+r**2\n",
    "                n = n//10\n",
    "            return s\n",
    "        for i in range(100):\n",
    "            n = is_one(N)\n",
    "        return n"
   ]
  },
  {
   "cell_type": "code",
   "execution_count": null,
   "id": "e94de745",
   "metadata": {},
   "outputs": [],
   "source": [
    "import openpyxl as xl\n",
    "wb = xl.load_workbook('practice.xlsx')\n",
    "sheet = wb['Sheet1']\n",
    "for row in range(2, 14):\n",
    "    cell = sheet.cell(row, 2)\n",
    "    corrected_price = cell.value * 0.9\n",
    "    corrected_price_cell = sheet.cell(row, 5)\n",
    "    corrected_price_cell.value = corrected_price\n",
    "    \n",
    "wb.save(\"practice2.xlsx\")"
   ]
  },
  {
   "cell_type": "code",
   "execution_count": null,
   "id": "38343c49",
   "metadata": {},
   "outputs": [],
   "source": [
    "n = int(input())\n",
    "l = []\n",
    "for i in range(0,n,1):\n",
    "    x = int(input())\n",
    "    l.append(x)\n",
    "maxx = l[0]\n",
    "minn = l[0]\n",
    "for i in range(0,n,1):\n",
    "    if l[i]>maxx:\n",
    "        maxx=l[i]\n",
    "    if l[i]<minn:\n",
    "        minn = l[i]\n",
    "print(maxx-minn)"
   ]
  },
  {
   "cell_type": "code",
   "execution_count": null,
   "id": "bb6acf9f",
   "metadata": {},
   "outputs": [],
   "source": [
    "n = int(input())\n",
    "l = []\n",
    "for i in range(0,n,1):\n",
    "    x = int(input())\n",
    "    l.append(x)\n",
    "maxx = max(l)\n",
    "minn = min(l)\n",
    "print(maxx-minn)"
   ]
  },
  {
   "cell_type": "code",
   "execution_count": null,
   "id": "3543c25c",
   "metadata": {},
   "outputs": [],
   "source": [
    "l = input().split()\n",
    "print(max(l))\n",
    "print(l)"
   ]
  },
  {
   "cell_type": "code",
   "execution_count": null,
   "id": "7ae4f76d",
   "metadata": {},
   "outputs": [],
   "source": [
    "n=int(input())\n",
    "l=list(map(int,input().split()))\n",
    "print(max(l)-min(l))"
   ]
  },
  {
   "cell_type": "markdown",
   "id": "ddb5e94e",
   "metadata": {},
   "source": []
  },
  {
   "cell_type": "code",
   "execution_count": null,
   "id": "fbd9bd0f",
   "metadata": {},
   "outputs": [],
   "source": [
    "n=int(input())\n",
    "l=list(map(int,input().split()))\n",
    "osum=0\n",
    "asum=0\n",
    "for i in range(1,n+1):\n",
    "    osum=osum+i\n",
    "for i in range(0,n-1):\n",
    "    asum=asum+l[i]\n",
    "print(osum-asum)\n",
    "    "
   ]
  },
  {
   "cell_type": "code",
   "execution_count": null,
   "id": "d10349d7",
   "metadata": {},
   "outputs": [],
   "source": [
    "x = int(inpu())\n",
    "y = int(input())\n",
    "z = int(input())\n",
    "n = int(input())\n"
   ]
  },
  {
   "cell_type": "code",
   "execution_count": null,
   "id": "a4886b11",
   "metadata": {},
   "outputs": [],
   "source": [
    "a = int(input())\n",
    "b = int(input())\n",
    "m = int(input())\n",
    "pow(a,b,m)"
   ]
  },
  {
   "cell_type": "code",
   "execution_count": null,
   "id": "0f2adfb0",
   "metadata": {},
   "outputs": [],
   "source": [
    "def prime(n):\n",
    "    c = 0\n",
    "    for i in range(1,n+1):\n",
    "        if n%i == 0:\n",
    "            c += 1\n",
    "    if c == 2:\n",
    "        print(\"Prime\")\n",
    "    else:\n",
    "        print(\"Not Prime\")\n",
    "n = int(input())\n",
    "prime(n)"
   ]
  },
  {
   "cell_type": "code",
   "execution_count": null,
   "id": "313d3add",
   "metadata": {},
   "outputs": [],
   "source": [
    "def prime(n):\n",
    "    if n<2:\n",
    "        return False\n",
    "    p = 2\n",
    "    while p<n:\n",
    "        if n%p == 0:\n",
    "            return False\n",
    "        p = p+1\n",
    "    return True\n",
    "n = int(input())\n",
    "i = 1\n",
    "c = 0\n",
    "while i<n:\n",
    "    if prime(i):\n",
    "        c += 1\n",
    "    i += 1\n",
    "print(c)"
   ]
  },
  {
   "cell_type": "code",
   "execution_count": null,
   "id": "5b3983ae",
   "metadata": {},
   "outputs": [],
   "source": [
    "import math\n",
    "n = int(input())\n",
    "\n",
    "x = int(math.sqrt(n))\n",
    "sieve = [1]*(n+1)\n",
    "sieve[0] = 0\n",
    "sieve[1] = 0\n",
    "p = 2\n",
    "while p<= x:\n",
    "    if sieve[p] == 1:\n",
    "        for j in range(p*p,n+1,p):\n",
    "            sieve[j] = 0\n",
    "        p += 1\n",
    "    for i in range(1,n+1):\n",
    "        if sieve[i] == 1:\n",
    "            print(i,end = ' ')"
   ]
  },
  {
   "cell_type": "code",
   "execution_count": null,
   "id": "45fb8545",
   "metadata": {},
   "outputs": [
    {
     "name": "stdout",
     "output_type": "stream",
     "text": [
      "20\n"
     ]
    }
   ],
   "source": [
    "import math\n",
    "n = int(input())\n",
    "\n",
    "x = int(math.sqrt(n))\n",
    "sieve = [1]*(n+1)\n",
    "sieve[0] = 0\n",
    "sieve[1] = 0\n",
    "p = 2\n",
    "while p<= x:\n",
    "    if sieve[p] == 1:\n",
    "        for j in range(p*p,n+1,p):\n",
    "            sieve[j] = 0\n",
    "        p += 1\n",
    "l = []\n",
    "for i in range(1,n+1):\n",
    "    if sieve[i] == 1:\n",
    "        l.append(i)\n",
    "for i in l:\n",
    "    print(i,end = ' ')\n",
    "print()\n",
    "print(len(l))"
   ]
  },
  {
   "cell_type": "code",
   "execution_count": 2,
   "id": "844a0f5e",
   "metadata": {},
   "outputs": [
    {
     "data": {
      "text/plain": [
       "9966311333"
      ]
     },
     "execution_count": 2,
     "metadata": {},
     "output_type": "execute_result"
    }
   ],
   "source": [
    "9866141677\n",
    "9966311333"
   ]
  },
  {
   "cell_type": "code",
   "execution_count": 12,
   "id": "a0ad153b",
   "metadata": {},
   "outputs": [
    {
     "name": "stdout",
     "output_type": "stream",
     "text": [
      "enter the number upto which to find: 20\n",
      "m:  2\n",
      "2\n",
      "3\n",
      "5\n",
      "7\n",
      "11\n",
      "13\n",
      "17\n",
      "19\n"
     ]
    }
   ],
   "source": [
    "n = int(input(\"enter the number upto which to find: \"))\n",
    "sieve = set(range(2, n+1))\n",
    "print(\"m: \",min(sieve))\n",
    "while sieve:\n",
    "    prime = min(sieve)\n",
    "    print(prime, end=\"\\n\")\n",
    "    sieve -= set(range(prime, n+1, prime))"
   ]
  },
  {
   "cell_type": "code",
   "execution_count": 19,
   "id": "8baf412f",
   "metadata": {},
   "outputs": [
    {
     "name": "stdout",
     "output_type": "stream",
     "text": [
      "20\n",
      "2\n",
      "2\n",
      "5\n"
     ]
    }
   ],
   "source": [
    "#write a program to find the prime factors of the given number\n",
    "import math\n",
    "n = int(input())\n",
    "while n%2 == 0:\n",
    "    print(2)\n",
    "    n = n//2\n",
    "for i in range(3, int(math.sqrt(n))+1,2):\n",
    "    while n%i == 0:\n",
    "        print(i)\n",
    "        n = n//i\n",
    "if n>2:\n",
    "    print(n)"
   ]
  },
  {
   "cell_type": "code",
   "execution_count": null,
   "id": "19dba471",
   "metadata": {},
   "outputs": [],
   "source": [
    "#write a program to find the prime factors using sieve\n",
    "import math\n",
    "n = 10000001\n",
    "sieve = [1]*n\n",
    "sieve[0] = 0\n",
    "sieve[1] = 0\n",
    "x = int(math.sqrt(n))\n",
    "for i in range(2,x+1):\n",
    "    if sieve[i] == 1:\n",
    "        for j in range(i*i,n,i):\n",
    "            sieve[j] = 0\n",
    "m = int(input())\n",
    "l = []\n",
    "for i in range(2,m+1):\n",
    "    if sieve[i] == 1:\n",
    "        \n",
    "        while m%i == 0:\n",
    "            l.append(i)\n",
    "print(l)"
   ]
  },
  {
   "cell_type": "code",
   "execution_count": 3,
   "id": "7ce4c05b",
   "metadata": {},
   "outputs": [
    {
     "name": "stdout",
     "output_type": "stream",
     "text": [
      "200\n",
      "2\n",
      "2\n",
      "2\n",
      "5\n",
      "5\n"
     ]
    }
   ],
   "source": [
    "import math\n",
    "N = 1000\n",
    "x = int(math.sqrt(N))\n",
    "sieve=[0]*N\n",
    "sieve[1]=1\n",
    "for i in range(2,N):\n",
    "    sieve[i] = i\n",
    "for i in range(4,N,2):\n",
    "    sieve[i] = 2\n",
    "for i in range(3,x+1):\n",
    "    if sieve[i] == i:\n",
    "        for j in range(i*i,N,i):\n",
    "            if sieve[j] == j:\n",
    "                sieve[j] = i\n",
    "m = int(input())\n",
    "while m!=1:\n",
    "    print(sieve[m])\n",
    "    m = m//sieve[m]"
   ]
  },
  {
   "cell_type": "code",
   "execution_count": 6,
   "id": "8423020f",
   "metadata": {},
   "outputs": [
    {
     "name": "stdout",
     "output_type": "stream",
     "text": [
      "200\n",
      "2\n",
      "2\n",
      "2\n",
      "25\n"
     ]
    }
   ],
   "source": [
    "import math\n",
    "N = 1000\n",
    "x = int(math.sqrt(N))\n",
    "sieve=[0]*N\n",
    "sieve[1]=1\n",
    "for i in range(2,N):\n",
    "    sieve[i] = i\n",
    "for i in range(4,N,2):\n",
    "    sieve[i] = 2\n",
    "for i in range(3,x+1):\n",
    "    if sieve[i] == i:\n",
    "        for j in range(i*i,N,i):\n",
    "            if sieve[i] == j:\n",
    "                sieve[j] = i\n",
    "m = int(input())\n",
    "while m!=1:\n",
    "    print(sieve[m])\n",
    "    m = m//sieve[m]"
   ]
  },
  {
   "cell_type": "code",
   "execution_count": 8,
   "id": "54f23a9f",
   "metadata": {},
   "outputs": [
    {
     "name": "stdout",
     "output_type": "stream",
     "text": [
      "200\n",
      "[2, 5]\n"
     ]
    }
   ],
   "source": [
    "import math\n",
    "l=[]\n",
    "N = 1000\n",
    "x = int(math.sqrt(N))\n",
    "sieve=[0]*N\n",
    "sieve[1]=1\n",
    "for i in range(2,N):\n",
    "    sieve[i] = i\n",
    "for i in range(4,N,2):\n",
    "    sieve[i] = 2\n",
    "for i in range(3,x+1):\n",
    "    if sieve[i] == i:\n",
    "        for j in range(i*i,N,i):\n",
    "            if sieve[j] == j:\n",
    "                sieve[j] = i\n",
    "m = int(input())\n",
    "while m!=1:\n",
    "    l.append(sieve[m])\n",
    "    m = m//sieve[m]\n",
    "print(list(set(l)))"
   ]
  },
  {
   "cell_type": "code",
   "execution_count": null,
   "id": "d4cedaf8",
   "metadata": {},
   "outputs": [],
   "source": [
    "# Maximum of sub-array\n",
    "l = [5,4,-1,7,8]\n",
    "r = []\n",
    "maxsum = 0\n",
    "for i in l:\n",
    "    sum = 0\n",
    "    for j in range(len(l)):\n",
    "        sum += j"
   ]
  },
  {
   "cell_type": "code",
   "execution_count": null,
   "id": "4b566e7f",
   "metadata": {},
   "outputs": [],
   "source": [
    "n = int(input())\n",
    "arr = list(map(int,input().split()))\n",
    "maxsum = arr[0]\n",
    "for i in range(0,n):\n",
    "    csum = 1\n",
    "    for j in range(i,n):\n",
    "        csum += arr[j]\n",
    "        if csum > maxsum:\n",
    "            maxsum = csum\n",
    "print(maxsum)"
   ]
  },
  {
   "cell_type": "code",
   "execution_count": 4,
   "id": "822ae14f",
   "metadata": {},
   "outputs": [
    {
     "name": "stdout",
     "output_type": "stream",
     "text": [
      "5\n",
      "5 4 -1 7 8\n",
      "5\n"
     ]
    }
   ],
   "source": [
    "n = int(input())\n",
    "arr = list(map(int,input().split()))\n",
    "maxsum = arr[0]\n",
    "csum = 0\n",
    "for i in range(0,n):\n",
    "    csum += arr[i]\n",
    "    if csum < 0:\n",
    "        csum = 0\n",
    "print(maxsum)"
   ]
  },
  {
   "cell_type": "code",
   "execution_count": 7,
   "id": "df07f89a",
   "metadata": {},
   "outputs": [
    {
     "name": "stdout",
     "output_type": "stream",
     "text": [
      "10\n",
      "1\n"
     ]
    }
   ],
   "source": [
    "# write a program to convert decimal number into binary number.\n",
    "n = int(input())\n",
    "s = \"\"\n",
    "while n != 0:\n",
    "    b = n%2\n",
    "    s += str(b)\n",
    "    n = n//2\n",
    "print(b)"
   ]
  },
  {
   "cell_type": "code",
   "execution_count": null,
   "id": "e3396498",
   "metadata": {},
   "outputs": [],
   "source": [
    "n = int(input())\n",
    "for i in range(1, n+1):\n",
    "    "
   ]
  }
 ],
 "metadata": {
  "kernelspec": {
   "display_name": "Python 3 (ipykernel)",
   "language": "python",
   "name": "python3"
  },
  "language_info": {
   "codemirror_mode": {
    "name": "ipython",
    "version": 3
   },
   "file_extension": ".py",
   "mimetype": "text/x-python",
   "name": "python",
   "nbconvert_exporter": "python",
   "pygments_lexer": "ipython3",
   "version": "3.11.5"
  }
 },
 "nbformat": 4,
 "nbformat_minor": 5
}
